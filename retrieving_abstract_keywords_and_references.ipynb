{
 "cells": [
  {
   "cell_type": "code",
   "execution_count": 1,
   "metadata": {},
   "outputs": [],
   "source": [
    "# USING PYTHON 3.10.7\n",
    "\n",
    "import os\n",
    "import PyPDF2\n",
    "import pandas as pd\n",
    "import re\n",
    "import unicodedata"
   ]
  },
  {
   "cell_type": "code",
   "execution_count": 2,
   "metadata": {},
   "outputs": [],
   "source": [
    "#### FUNCOES PARA EXTRAIR O TEXTO DE PDF\n",
    "\n",
    "def extrair_texto_pdf(caminho_arquivo):\n",
    "    # Abre o arquivo PDF\n",
    "    with open(caminho_arquivo, 'rb') as f:\n",
    "        # Cria um objeto PDFReader a partir do arquivo\n",
    "        pdf_reader = PyPDF2.PdfFileReader(f)\n",
    "        \n",
    "        # Inicializa uma lista para armazenar o texto de cada página\n",
    "        texto_paginas = []\n",
    "        \n",
    "        # Percorre todas as páginas do arquivo\n",
    "        for p in range(pdf_reader.numPages):\n",
    "            # Lê a página atual\n",
    "            pagina = pdf_reader.getPage(p)\n",
    "            \n",
    "            # Extrai o texto da página e adiciona à lista\n",
    "            texto_paginas.append(pagina.extractText())\n",
    "        \n",
    "        # Retorna a lista com o texto de todas as páginas\n",
    "        return texto_paginas\n",
    "\n"
   ]
  },
  {
   "cell_type": "code",
   "execution_count": 3,
   "metadata": {},
   "outputs": [],
   "source": [
    "# Get the list of all files in directory\n",
    "directory = \"C:\\\\Users\\\\JVoigt\\\\OneDrive - Universität für Weiterbildung Krems\\\\Dokumente\\\\Projetos\\\\Open Data Wien\\\\GIW OGD\\\\\"\n",
    "files = os.listdir(directory)\n",
    "    "
   ]
  },
  {
   "cell_type": "code",
   "execution_count": 4,
   "metadata": {},
   "outputs": [
    {
     "name": "stderr",
     "output_type": "stream",
     "text": [
      "Xref table not zero-indexed. ID numbers for objects will be corrected.\n"
     ]
    },
    {
     "name": "stdout",
     "output_type": "stream",
     "text": [
      "A-multi-perspective-knowledge-driven-approach-for-analy_2021_Government-Info.pdf\n"
     ]
    },
    {
     "name": "stderr",
     "output_type": "stream",
     "text": [
      "Xref table not zero-indexed. ID numbers for objects will be corrected.\n"
     ]
    },
    {
     "name": "stdout",
     "output_type": "stream",
     "text": [
      "A-user-centred-analysis-of-decision-support-requir_2022_Government-Informati.pdf\n"
     ]
    },
    {
     "name": "stderr",
     "output_type": "stream",
     "text": [
      "Xref table not zero-indexed. ID numbers for objects will be corrected.\n"
     ]
    },
    {
     "name": "stdout",
     "output_type": "stream",
     "text": [
      "Antecedents-of-the-intention-to-adopt-crowdsourcing-for-_2023_Government-Inf.pdf\n"
     ]
    },
    {
     "name": "stderr",
     "output_type": "stream",
     "text": [
      "Xref table not zero-indexed. ID numbers for objects will be corrected.\n"
     ]
    },
    {
     "name": "stdout",
     "output_type": "stream",
     "text": [
      "Are-pictures-worth-a-thousand-words--The-effect-of-infor_2020_Government-Inf.pdf\n"
     ]
    },
    {
     "name": "stderr",
     "output_type": "stream",
     "text": [
      "Xref table not zero-indexed. ID numbers for objects will be corrected.\n"
     ]
    },
    {
     "name": "stdout",
     "output_type": "stream",
     "text": [
      "Building-open-government-data-platform-ecosystems--A-dy_2023_Government-Info.pdf\n"
     ]
    },
    {
     "name": "stderr",
     "output_type": "stream",
     "text": [
      "Xref table not zero-indexed. ID numbers for objects will be corrected.\n"
     ]
    },
    {
     "name": "stdout",
     "output_type": "stream",
     "text": [
      "Citizen-reactions-to-municipalities--Instagram_2021_Government-Information-Q.pdf\n"
     ]
    },
    {
     "name": "stderr",
     "output_type": "stream",
     "text": [
      "Xref table not zero-indexed. ID numbers for objects will be corrected.\n"
     ]
    },
    {
     "name": "stdout",
     "output_type": "stream",
     "text": [
      "Creating-Open-Government-Data-ecosystems--Network-relat_2022_Government-Info.pdf\n"
     ]
    },
    {
     "name": "stderr",
     "output_type": "stream",
     "text": [
      "Xref table not zero-indexed. ID numbers for objects will be corrected.\n"
     ]
    },
    {
     "name": "stdout",
     "output_type": "stream",
     "text": [
      "Cultivating-open-government-data-platform-ecosystems-thr_2020_Government-Inf.pdf\n"
     ]
    },
    {
     "name": "stderr",
     "output_type": "stream",
     "text": [
      "Xref table not zero-indexed. ID numbers for objects will be corrected.\n"
     ]
    },
    {
     "name": "stdout",
     "output_type": "stream",
     "text": [
      "Data-science-empowering-the-public--Data-driven-dashboar_2020_Government-Inf.pdf\n"
     ]
    },
    {
     "name": "stderr",
     "output_type": "stream",
     "text": [
      "Xref table not zero-indexed. ID numbers for objects will be corrected.\n"
     ]
    },
    {
     "name": "stdout",
     "output_type": "stream",
     "text": [
      "Design-principles-for-creating-digital-transpar_2021_Government-Information-.pdf\n"
     ]
    },
    {
     "name": "stderr",
     "output_type": "stream",
     "text": [
      "Xref table not zero-indexed. ID numbers for objects will be corrected.\n"
     ]
    },
    {
     "name": "stdout",
     "output_type": "stream",
     "text": [
      "Designing-and-implementing-data-collaboratives--A_2021_Government-Informatio.pdf\n"
     ]
    },
    {
     "name": "stderr",
     "output_type": "stream",
     "text": [
      "Xref table not zero-indexed. ID numbers for objects will be corrected.\n"
     ]
    },
    {
     "name": "stdout",
     "output_type": "stream",
     "text": [
      "Designing-boundary-resources-in-digital-government-pl_2023_Government-Inform.pdf\n"
     ]
    },
    {
     "name": "stderr",
     "output_type": "stream",
     "text": [
      "Xref table not zero-indexed. ID numbers for objects will be corrected.\n"
     ]
    },
    {
     "name": "stdout",
     "output_type": "stream",
     "text": [
      "Determinants-of-open-government-data-usage--Integrati_2023_Government-Inform.pdf\n"
     ]
    },
    {
     "name": "stderr",
     "output_type": "stream",
     "text": [
      "Xref table not zero-indexed. ID numbers for objects will be corrected.\n"
     ]
    },
    {
     "name": "stdout",
     "output_type": "stream",
     "text": [
      "Do-FOI-laws-and-open-government-data-deliver-as-anti-co_2020_Government-Info.pdf\n"
     ]
    },
    {
     "name": "stderr",
     "output_type": "stream",
     "text": [
      "Xref table not zero-indexed. ID numbers for objects will be corrected.\n"
     ]
    },
    {
     "name": "stdout",
     "output_type": "stream",
     "text": [
      "Does-citizen-coproduction-lead-to-better-urban-services-in_2020_Government-I.pdf\n"
     ]
    },
    {
     "name": "stderr",
     "output_type": "stream",
     "text": [
      "Xref table not zero-indexed. ID numbers for objects will be corrected.\n"
     ]
    },
    {
     "name": "stdout",
     "output_type": "stream",
     "text": [
      "Effects-of-Predictors-of-Citizens--Attitudes-and-Inten_2022_Government-Infor.pdf\n"
     ]
    },
    {
     "name": "stderr",
     "output_type": "stream",
     "text": [
      "Xref table not zero-indexed. ID numbers for objects will be corrected.\n"
     ]
    },
    {
     "name": "stdout",
     "output_type": "stream",
     "text": [
      "Enhancing-the-usability-and-usefulness-of-open-government-_2022_Government-I.pdf\n"
     ]
    },
    {
     "name": "stderr",
     "output_type": "stream",
     "text": [
      "Xref table not zero-indexed. ID numbers for objects will be corrected.\n"
     ]
    },
    {
     "name": "stdout",
     "output_type": "stream",
     "text": [
      "Exploring-FOI-publicity-patterns--The-case-of-It_2022_Government-Information.pdf\n"
     ]
    },
    {
     "name": "stderr",
     "output_type": "stream",
     "text": [
      "Xref table not zero-indexed. ID numbers for objects will be corrected.\n"
     ]
    },
    {
     "name": "stdout",
     "output_type": "stream",
     "text": [
      "Exploring-the-extent-of-openness-of-open-government-da_2020_Government-Infor.pdf\n"
     ]
    },
    {
     "name": "stderr",
     "output_type": "stream",
     "text": [
      "Xref table not zero-indexed. ID numbers for objects will be corrected.\n"
     ]
    },
    {
     "name": "stdout",
     "output_type": "stream",
     "text": [
      "Factors-in-the-adoption-of-open-government-initiati_2022_Government-Informat.pdf\n"
     ]
    },
    {
     "name": "stderr",
     "output_type": "stream",
     "text": [
      "Xref table not zero-indexed. ID numbers for objects will be corrected.\n"
     ]
    },
    {
     "name": "stdout",
     "output_type": "stream",
     "text": [
      "FOI-in-transition--A-comparative-analysis-of-the-Freedom-_2020_Government-In.pdf\n"
     ]
    },
    {
     "name": "stderr",
     "output_type": "stream",
     "text": [
      "Xref table not zero-indexed. ID numbers for objects will be corrected.\n"
     ]
    },
    {
     "name": "stdout",
     "output_type": "stream",
     "text": [
      "From-E-budgeting-to-smart-budgeting--Exploring-the-potenti_2022_Government-I.pdf\n"
     ]
    },
    {
     "name": "stderr",
     "output_type": "stream",
     "text": [
      "Xref table not zero-indexed. ID numbers for objects will be corrected.\n"
     ]
    },
    {
     "name": "stdout",
     "output_type": "stream",
     "text": [
      "Identifying-patterns-and-recommendations-of-and-for-sustaina_2024_Government.pdf\n"
     ]
    },
    {
     "name": "stderr",
     "output_type": "stream",
     "text": [
      "Xref table not zero-indexed. ID numbers for objects will be corrected.\n"
     ]
    },
    {
     "name": "stdout",
     "output_type": "stream",
     "text": [
      "Information-shocks-and-parental-response-in-education--A-case-study-_2022_Go.pdf\n"
     ]
    },
    {
     "name": "stderr",
     "output_type": "stream",
     "text": [
      "Xref table not zero-indexed. ID numbers for objects will be corrected.\n"
     ]
    },
    {
     "name": "stdout",
     "output_type": "stream",
     "text": [
      "Is-a-more-transparent--connected--and-engaged-city-a-smarte_2022_Government-.pdf\n"
     ]
    },
    {
     "name": "stderr",
     "output_type": "stream",
     "text": [
      "Xref table not zero-indexed. ID numbers for objects will be corrected.\n"
     ]
    },
    {
     "name": "stdout",
     "output_type": "stream",
     "text": [
      "Joining-the-open-government-partnership-initiative--A_2023_Government-Inform.pdf\n"
     ]
    },
    {
     "name": "stderr",
     "output_type": "stream",
     "text": [
      "Xref table not zero-indexed. ID numbers for objects will be corrected.\n"
     ]
    },
    {
     "name": "stdout",
     "output_type": "stream",
     "text": [
      "Key-factors-and-generation-mechanisms-of-open-governmen_2022_Government-Info.pdf\n"
     ]
    },
    {
     "name": "stderr",
     "output_type": "stream",
     "text": [
      "Xref table not zero-indexed. ID numbers for objects will be corrected.\n"
     ]
    },
    {
     "name": "stdout",
     "output_type": "stream",
     "text": [
      "Latent-transparency-and-trust-in-government--Unexpec_2020_Government-Informa.pdf\n"
     ]
    },
    {
     "name": "stderr",
     "output_type": "stream",
     "text": [
      "Xref table not zero-indexed. ID numbers for objects will be corrected.\n"
     ]
    },
    {
     "name": "stdout",
     "output_type": "stream",
     "text": [
      "Linguistic-and-semantic-factors-in-government-e-petitions_2020_Government-In.pdf\n"
     ]
    },
    {
     "name": "stderr",
     "output_type": "stream",
     "text": [
      "Xref table not zero-indexed. ID numbers for objects will be corrected.\n"
     ]
    },
    {
     "name": "stdout",
     "output_type": "stream",
     "text": [
      "Looking-for-datasets-to-open--An-exploration-of-governme_2021_Government-Inf.pdf\n"
     ]
    },
    {
     "name": "stderr",
     "output_type": "stream",
     "text": [
      "Xref table not zero-indexed. ID numbers for objects will be corrected.\n"
     ]
    },
    {
     "name": "stdout",
     "output_type": "stream",
     "text": [
      "OGD-metadata-country-portal-publishing-guidelines-compli_2022_Government-Inf.pdf\n"
     ]
    },
    {
     "name": "stderr",
     "output_type": "stream",
     "text": [
      "Xref table not zero-indexed. ID numbers for objects will be corrected.\n"
     ]
    },
    {
     "name": "stdout",
     "output_type": "stream",
     "text": [
      "Open-data-innovation--Visualizations-and-process-redesi_2022_Government-Info.pdf\n"
     ]
    },
    {
     "name": "stderr",
     "output_type": "stream",
     "text": [
      "Xref table not zero-indexed. ID numbers for objects will be corrected.\n"
     ]
    },
    {
     "name": "stdout",
     "output_type": "stream",
     "text": [
      "Open-data-work-for-empowered-deliberative-democracy_2024_Government-Informat.pdf\n"
     ]
    },
    {
     "name": "stderr",
     "output_type": "stream",
     "text": [
      "Xref table not zero-indexed. ID numbers for objects will be corrected.\n"
     ]
    },
    {
     "name": "stdout",
     "output_type": "stream",
     "text": [
      "Open-government-data-and-the-private-sector--An-empiri_2020_Government-Infor.pdf\n"
     ]
    },
    {
     "name": "stderr",
     "output_type": "stream",
     "text": [
      "Xref table not zero-indexed. ID numbers for objects will be corrected.\n"
     ]
    },
    {
     "name": "stdout",
     "output_type": "stream",
     "text": [
      "Open-government-data-from-a-legal-perspective--An-AI_2023_Government-Informa.pdf\n"
     ]
    },
    {
     "name": "stderr",
     "output_type": "stream",
     "text": [
      "Xref table not zero-indexed. ID numbers for objects will be corrected.\n"
     ]
    },
    {
     "name": "stdout",
     "output_type": "stream",
     "text": [
      "Open-government-data-portals--Predictors-of-site-enga_2021_Government-Inform.pdf\n"
     ]
    },
    {
     "name": "stderr",
     "output_type": "stream",
     "text": [
      "Xref table not zero-indexed. ID numbers for objects will be corrected.\n"
     ]
    },
    {
     "name": "stdout",
     "output_type": "stream",
     "text": [
      "Open-government-research-over-a-decade--A-syst_2021_Government-Information-Q.pdf\n"
     ]
    },
    {
     "name": "stderr",
     "output_type": "stream",
     "text": [
      "Xref table not zero-indexed. ID numbers for objects will be corrected.\n"
     ]
    },
    {
     "name": "stdout",
     "output_type": "stream",
     "text": [
      "Privacy-preserving-data-mining-for-open-government-_2021_Government-Informat.pdf\n"
     ]
    },
    {
     "name": "stderr",
     "output_type": "stream",
     "text": [
      "Xref table not zero-indexed. ID numbers for objects will be corrected.\n"
     ]
    },
    {
     "name": "stdout",
     "output_type": "stream",
     "text": [
      "Resisting-by-workarounds--Unraveling-the-barriers-of-_2020_Government-Inform.pdf\n"
     ]
    },
    {
     "name": "stderr",
     "output_type": "stream",
     "text": [
      "Xref table not zero-indexed. ID numbers for objects will be corrected.\n"
     ]
    },
    {
     "name": "stdout",
     "output_type": "stream",
     "text": [
      "The-implementation-of-an-e-archive-to-facilitate-open-data_2022_Government-I.pdf\n"
     ]
    },
    {
     "name": "stderr",
     "output_type": "stream",
     "text": [
      "Xref table not zero-indexed. ID numbers for objects will be corrected.\n"
     ]
    },
    {
     "name": "stdout",
     "output_type": "stream",
     "text": [
      "The-socialization-of-civic-participation-norms-in-governme_2020_Government-I.pdf\n"
     ]
    },
    {
     "name": "stderr",
     "output_type": "stream",
     "text": [
      "Xref table not zero-indexed. ID numbers for objects will be corrected.\n"
     ]
    },
    {
     "name": "stdout",
     "output_type": "stream",
     "text": [
      "The-survival-of-open-government-platforms--Empirica_2021_Government-Informat.pdf\n"
     ]
    },
    {
     "name": "stderr",
     "output_type": "stream",
     "text": [
      "Xref table not zero-indexed. ID numbers for objects will be corrected.\n"
     ]
    },
    {
     "name": "stdout",
     "output_type": "stream",
     "text": [
      "Trends-and-challenges-of-e-government-chatbots--Advances_2023_Government-Inf.pdf\n"
     ]
    },
    {
     "name": "stderr",
     "output_type": "stream",
     "text": [
      "Xref table not zero-indexed. ID numbers for objects will be corrected.\n"
     ]
    },
    {
     "name": "stdout",
     "output_type": "stream",
     "text": [
      "Understanding-the-key-factors-and-configurational-paths-of_2021_Government-I.pdf\n"
     ]
    }
   ],
   "source": [
    "# 1. Pegando keyword e abstract\n",
    "\n",
    "def extrair_keywords_e_abstract(texto):\n",
    "    # Encontrar o índice de \"Keywords:\" e \"ABSTRACT\" no texto\n",
    "    indice_keywords = texto.find(\"Keywords:\")\n",
    "    indice_abstract = texto.find(\"ABSTRACT\")\n",
    "\n",
    "    # Extrair o texto entre \"Keywords:\" e \"ABSTRACT\"\n",
    "    keywords = texto[indice_keywords + len(\"Keywords:\"):indice_abstract].strip()\n",
    "\n",
    "    # Substituir \\n por ;\n",
    "    keywords = keywords.replace(\"\\n\", \"; \")\n",
    "\n",
    "    # Extrair o texto entre \"ABSTRACT\" e \"1.Introduction\"\n",
    "    indice_inicio_abstract = indice_abstract + len(\"ABSTRACT\")\n",
    "    indice_fim_abstract = texto.find(\"1.Introduction\")\n",
    "    abstract = texto[indice_inicio_abstract:indice_fim_abstract].strip()\n",
    "\n",
    "    # Criar um DataFrame\n",
    "    df = pd.DataFrame({\"keywords\": [keywords], \"abstract\": [abstract]})\n",
    "\n",
    "    return df\n",
    "\n",
    "# Criar um DataFrame vazio\n",
    "df_paper_info = pd.DataFrame(columns=[\"paper_name\", \"keywords\", \"abstract\"])\n",
    "\n",
    "#Abrindo todos os arquivos e pegando todas as keywords e abstracts\n",
    "\n",
    "for file in files:\n",
    "    print(file)\n",
    "    path = directory  + file\n",
    "    paper = extrair_texto_pdf(path)\n",
    "    x = paper[0]\n",
    "    df_temp = extrair_keywords_e_abstract(x)\n",
    "    df_temp['paper_name'] = file\n",
    "    df_paper_info = pd.concat([df_paper_info, df_temp], ignore_index=True)\n",
    "\n",
    "# algumas keywords sairam truncadas mas nao vale a pena o trabalho de resolver\n"
   ]
  },
  {
   "cell_type": "code",
   "execution_count": 17,
   "metadata": {},
   "outputs": [
    {
     "name": "stderr",
     "output_type": "stream",
     "text": [
      "Xref table not zero-indexed. ID numbers for objects will be corrected.\n"
     ]
    },
    {
     "name": "stdout",
     "output_type": "stream",
     "text": [
      "A-multi-perspective-knowledge-driven-approach-for-analy_2021_Government-Info.pdf\n"
     ]
    },
    {
     "name": "stderr",
     "output_type": "stream",
     "text": [
      "Xref table not zero-indexed. ID numbers for objects will be corrected.\n"
     ]
    },
    {
     "name": "stdout",
     "output_type": "stream",
     "text": [
      "A-user-centred-analysis-of-decision-support-requir_2022_Government-Informati.pdf\n"
     ]
    },
    {
     "name": "stderr",
     "output_type": "stream",
     "text": [
      "Xref table not zero-indexed. ID numbers for objects will be corrected.\n"
     ]
    },
    {
     "name": "stdout",
     "output_type": "stream",
     "text": [
      "Antecedents-of-the-intention-to-adopt-crowdsourcing-for-_2023_Government-Inf.pdf\n"
     ]
    },
    {
     "name": "stderr",
     "output_type": "stream",
     "text": [
      "Xref table not zero-indexed. ID numbers for objects will be corrected.\n"
     ]
    },
    {
     "name": "stdout",
     "output_type": "stream",
     "text": [
      "Are-pictures-worth-a-thousand-words--The-effect-of-infor_2020_Government-Inf.pdf\n"
     ]
    },
    {
     "name": "stderr",
     "output_type": "stream",
     "text": [
      "Xref table not zero-indexed. ID numbers for objects will be corrected.\n"
     ]
    },
    {
     "name": "stdout",
     "output_type": "stream",
     "text": [
      "Building-open-government-data-platform-ecosystems--A-dy_2023_Government-Info.pdf\n"
     ]
    },
    {
     "name": "stderr",
     "output_type": "stream",
     "text": [
      "Xref table not zero-indexed. ID numbers for objects will be corrected.\n"
     ]
    },
    {
     "name": "stdout",
     "output_type": "stream",
     "text": [
      "Citizen-reactions-to-municipalities--Instagram_2021_Government-Information-Q.pdf\n"
     ]
    },
    {
     "name": "stderr",
     "output_type": "stream",
     "text": [
      "Xref table not zero-indexed. ID numbers for objects will be corrected.\n"
     ]
    },
    {
     "name": "stdout",
     "output_type": "stream",
     "text": [
      "Creating-Open-Government-Data-ecosystems--Network-relat_2022_Government-Info.pdf\n"
     ]
    },
    {
     "name": "stderr",
     "output_type": "stream",
     "text": [
      "Xref table not zero-indexed. ID numbers for objects will be corrected.\n"
     ]
    },
    {
     "name": "stdout",
     "output_type": "stream",
     "text": [
      "Cultivating-open-government-data-platform-ecosystems-thr_2020_Government-Inf.pdf\n"
     ]
    },
    {
     "name": "stderr",
     "output_type": "stream",
     "text": [
      "Xref table not zero-indexed. ID numbers for objects will be corrected.\n"
     ]
    },
    {
     "name": "stdout",
     "output_type": "stream",
     "text": [
      "Data-science-empowering-the-public--Data-driven-dashboar_2020_Government-Inf.pdf\n"
     ]
    },
    {
     "name": "stderr",
     "output_type": "stream",
     "text": [
      "Xref table not zero-indexed. ID numbers for objects will be corrected.\n"
     ]
    },
    {
     "name": "stdout",
     "output_type": "stream",
     "text": [
      "Design-principles-for-creating-digital-transpar_2021_Government-Information-.pdf\n"
     ]
    },
    {
     "name": "stderr",
     "output_type": "stream",
     "text": [
      "Xref table not zero-indexed. ID numbers for objects will be corrected.\n"
     ]
    },
    {
     "name": "stdout",
     "output_type": "stream",
     "text": [
      "Designing-and-implementing-data-collaboratives--A_2021_Government-Informatio.pdf\n"
     ]
    },
    {
     "name": "stderr",
     "output_type": "stream",
     "text": [
      "Xref table not zero-indexed. ID numbers for objects will be corrected.\n"
     ]
    },
    {
     "name": "stdout",
     "output_type": "stream",
     "text": [
      "Designing-boundary-resources-in-digital-government-pl_2023_Government-Inform.pdf\n"
     ]
    },
    {
     "name": "stderr",
     "output_type": "stream",
     "text": [
      "Xref table not zero-indexed. ID numbers for objects will be corrected.\n"
     ]
    },
    {
     "name": "stdout",
     "output_type": "stream",
     "text": [
      "Determinants-of-open-government-data-usage--Integrati_2023_Government-Inform.pdf\n"
     ]
    },
    {
     "name": "stderr",
     "output_type": "stream",
     "text": [
      "Xref table not zero-indexed. ID numbers for objects will be corrected.\n"
     ]
    },
    {
     "name": "stdout",
     "output_type": "stream",
     "text": [
      "Do-FOI-laws-and-open-government-data-deliver-as-anti-co_2020_Government-Info.pdf\n"
     ]
    },
    {
     "name": "stderr",
     "output_type": "stream",
     "text": [
      "Xref table not zero-indexed. ID numbers for objects will be corrected.\n"
     ]
    },
    {
     "name": "stdout",
     "output_type": "stream",
     "text": [
      "Does-citizen-coproduction-lead-to-better-urban-services-in_2020_Government-I.pdf\n"
     ]
    },
    {
     "name": "stderr",
     "output_type": "stream",
     "text": [
      "Xref table not zero-indexed. ID numbers for objects will be corrected.\n"
     ]
    },
    {
     "name": "stdout",
     "output_type": "stream",
     "text": [
      "Effects-of-Predictors-of-Citizens--Attitudes-and-Inten_2022_Government-Infor.pdf\n"
     ]
    },
    {
     "name": "stderr",
     "output_type": "stream",
     "text": [
      "Xref table not zero-indexed. ID numbers for objects will be corrected.\n"
     ]
    },
    {
     "name": "stdout",
     "output_type": "stream",
     "text": [
      "Enhancing-the-usability-and-usefulness-of-open-government-_2022_Government-I.pdf\n"
     ]
    },
    {
     "name": "stderr",
     "output_type": "stream",
     "text": [
      "Xref table not zero-indexed. ID numbers for objects will be corrected.\n"
     ]
    },
    {
     "name": "stdout",
     "output_type": "stream",
     "text": [
      "Exploring-FOI-publicity-patterns--The-case-of-It_2022_Government-Information.pdf\n"
     ]
    },
    {
     "name": "stderr",
     "output_type": "stream",
     "text": [
      "Xref table not zero-indexed. ID numbers for objects will be corrected.\n"
     ]
    },
    {
     "name": "stdout",
     "output_type": "stream",
     "text": [
      "Exploring-the-extent-of-openness-of-open-government-da_2020_Government-Infor.pdf\n"
     ]
    },
    {
     "name": "stderr",
     "output_type": "stream",
     "text": [
      "Xref table not zero-indexed. ID numbers for objects will be corrected.\n"
     ]
    },
    {
     "name": "stdout",
     "output_type": "stream",
     "text": [
      "Factors-in-the-adoption-of-open-government-initiati_2022_Government-Informat.pdf\n"
     ]
    },
    {
     "name": "stderr",
     "output_type": "stream",
     "text": [
      "Xref table not zero-indexed. ID numbers for objects will be corrected.\n"
     ]
    },
    {
     "name": "stdout",
     "output_type": "stream",
     "text": [
      "FOI-in-transition--A-comparative-analysis-of-the-Freedom-_2020_Government-In.pdf\n"
     ]
    },
    {
     "name": "stderr",
     "output_type": "stream",
     "text": [
      "Xref table not zero-indexed. ID numbers for objects will be corrected.\n"
     ]
    },
    {
     "name": "stdout",
     "output_type": "stream",
     "text": [
      "From-E-budgeting-to-smart-budgeting--Exploring-the-potenti_2022_Government-I.pdf\n"
     ]
    },
    {
     "name": "stderr",
     "output_type": "stream",
     "text": [
      "Xref table not zero-indexed. ID numbers for objects will be corrected.\n"
     ]
    },
    {
     "name": "stdout",
     "output_type": "stream",
     "text": [
      "Identifying-patterns-and-recommendations-of-and-for-sustaina_2024_Government.pdf\n"
     ]
    },
    {
     "name": "stderr",
     "output_type": "stream",
     "text": [
      "Xref table not zero-indexed. ID numbers for objects will be corrected.\n"
     ]
    },
    {
     "name": "stdout",
     "output_type": "stream",
     "text": [
      "Information-shocks-and-parental-response-in-education--A-case-study-_2022_Go.pdf\n"
     ]
    },
    {
     "name": "stderr",
     "output_type": "stream",
     "text": [
      "Xref table not zero-indexed. ID numbers for objects will be corrected.\n"
     ]
    },
    {
     "name": "stdout",
     "output_type": "stream",
     "text": [
      "Is-a-more-transparent--connected--and-engaged-city-a-smarte_2022_Government-.pdf\n"
     ]
    },
    {
     "name": "stderr",
     "output_type": "stream",
     "text": [
      "Xref table not zero-indexed. ID numbers for objects will be corrected.\n"
     ]
    },
    {
     "name": "stdout",
     "output_type": "stream",
     "text": [
      "Joining-the-open-government-partnership-initiative--A_2023_Government-Inform.pdf\n"
     ]
    },
    {
     "name": "stderr",
     "output_type": "stream",
     "text": [
      "Xref table not zero-indexed. ID numbers for objects will be corrected.\n"
     ]
    },
    {
     "name": "stdout",
     "output_type": "stream",
     "text": [
      "Key-factors-and-generation-mechanisms-of-open-governmen_2022_Government-Info.pdf\n"
     ]
    },
    {
     "name": "stderr",
     "output_type": "stream",
     "text": [
      "Xref table not zero-indexed. ID numbers for objects will be corrected.\n"
     ]
    },
    {
     "name": "stdout",
     "output_type": "stream",
     "text": [
      "Latent-transparency-and-trust-in-government--Unexpec_2020_Government-Informa.pdf\n"
     ]
    },
    {
     "name": "stderr",
     "output_type": "stream",
     "text": [
      "Xref table not zero-indexed. ID numbers for objects will be corrected.\n"
     ]
    },
    {
     "name": "stdout",
     "output_type": "stream",
     "text": [
      "Linguistic-and-semantic-factors-in-government-e-petitions_2020_Government-In.pdf\n"
     ]
    },
    {
     "name": "stderr",
     "output_type": "stream",
     "text": [
      "Xref table not zero-indexed. ID numbers for objects will be corrected.\n"
     ]
    },
    {
     "name": "stdout",
     "output_type": "stream",
     "text": [
      "Looking-for-datasets-to-open--An-exploration-of-governme_2021_Government-Inf.pdf\n"
     ]
    },
    {
     "name": "stderr",
     "output_type": "stream",
     "text": [
      "Xref table not zero-indexed. ID numbers for objects will be corrected.\n"
     ]
    },
    {
     "name": "stdout",
     "output_type": "stream",
     "text": [
      "OGD-metadata-country-portal-publishing-guidelines-compli_2022_Government-Inf.pdf\n"
     ]
    },
    {
     "name": "stderr",
     "output_type": "stream",
     "text": [
      "Xref table not zero-indexed. ID numbers for objects will be corrected.\n"
     ]
    },
    {
     "name": "stdout",
     "output_type": "stream",
     "text": [
      "Open-data-innovation--Visualizations-and-process-redesi_2022_Government-Info.pdf\n"
     ]
    },
    {
     "name": "stderr",
     "output_type": "stream",
     "text": [
      "Xref table not zero-indexed. ID numbers for objects will be corrected.\n"
     ]
    },
    {
     "name": "stdout",
     "output_type": "stream",
     "text": [
      "Open-data-work-for-empowered-deliberative-democracy_2024_Government-Informat.pdf\n"
     ]
    },
    {
     "name": "stderr",
     "output_type": "stream",
     "text": [
      "Xref table not zero-indexed. ID numbers for objects will be corrected.\n"
     ]
    },
    {
     "name": "stdout",
     "output_type": "stream",
     "text": [
      "Open-government-data-and-the-private-sector--An-empiri_2020_Government-Infor.pdf\n"
     ]
    },
    {
     "name": "stderr",
     "output_type": "stream",
     "text": [
      "Xref table not zero-indexed. ID numbers for objects will be corrected.\n"
     ]
    },
    {
     "name": "stdout",
     "output_type": "stream",
     "text": [
      "Open-government-data-from-a-legal-perspective--An-AI_2023_Government-Informa.pdf\n"
     ]
    },
    {
     "name": "stderr",
     "output_type": "stream",
     "text": [
      "Xref table not zero-indexed. ID numbers for objects will be corrected.\n"
     ]
    },
    {
     "name": "stdout",
     "output_type": "stream",
     "text": [
      "Open-government-data-portals--Predictors-of-site-enga_2021_Government-Inform.pdf\n"
     ]
    },
    {
     "name": "stderr",
     "output_type": "stream",
     "text": [
      "Xref table not zero-indexed. ID numbers for objects will be corrected.\n"
     ]
    },
    {
     "name": "stdout",
     "output_type": "stream",
     "text": [
      "Open-government-research-over-a-decade--A-syst_2021_Government-Information-Q.pdf\n"
     ]
    },
    {
     "name": "stderr",
     "output_type": "stream",
     "text": [
      "Xref table not zero-indexed. ID numbers for objects will be corrected.\n"
     ]
    },
    {
     "name": "stdout",
     "output_type": "stream",
     "text": [
      "Privacy-preserving-data-mining-for-open-government-_2021_Government-Informat.pdf\n"
     ]
    },
    {
     "name": "stderr",
     "output_type": "stream",
     "text": [
      "Xref table not zero-indexed. ID numbers for objects will be corrected.\n"
     ]
    },
    {
     "name": "stdout",
     "output_type": "stream",
     "text": [
      "Resisting-by-workarounds--Unraveling-the-barriers-of-_2020_Government-Inform.pdf\n"
     ]
    },
    {
     "name": "stderr",
     "output_type": "stream",
     "text": [
      "Xref table not zero-indexed. ID numbers for objects will be corrected.\n"
     ]
    },
    {
     "name": "stdout",
     "output_type": "stream",
     "text": [
      "The-implementation-of-an-e-archive-to-facilitate-open-data_2022_Government-I.pdf\n"
     ]
    },
    {
     "name": "stderr",
     "output_type": "stream",
     "text": [
      "Xref table not zero-indexed. ID numbers for objects will be corrected.\n"
     ]
    },
    {
     "name": "stdout",
     "output_type": "stream",
     "text": [
      "The-socialization-of-civic-participation-norms-in-governme_2020_Government-I.pdf\n"
     ]
    },
    {
     "name": "stderr",
     "output_type": "stream",
     "text": [
      "Xref table not zero-indexed. ID numbers for objects will be corrected.\n"
     ]
    },
    {
     "name": "stdout",
     "output_type": "stream",
     "text": [
      "The-survival-of-open-government-platforms--Empirica_2021_Government-Informat.pdf\n"
     ]
    },
    {
     "name": "stderr",
     "output_type": "stream",
     "text": [
      "Xref table not zero-indexed. ID numbers for objects will be corrected.\n"
     ]
    },
    {
     "name": "stdout",
     "output_type": "stream",
     "text": [
      "Trends-and-challenges-of-e-government-chatbots--Advances_2023_Government-Inf.pdf\n"
     ]
    },
    {
     "name": "stderr",
     "output_type": "stream",
     "text": [
      "Xref table not zero-indexed. ID numbers for objects will be corrected.\n"
     ]
    },
    {
     "name": "stdout",
     "output_type": "stream",
     "text": [
      "Understanding-the-key-factors-and-configurational-paths-of_2021_Government-I.pdf\n"
     ]
    }
   ],
   "source": [
    "# 2. Pegando bibliografia\n",
    "\n",
    "def encontrar_referencias(lista_frases):\n",
    "    # Percorre a lista de frases do último ao primeiro\n",
    "    for i, frase in enumerate(reversed(lista_frases), 1):\n",
    "        # Verifica se a palavra \"References\" está na frase\n",
    "        if \"References\" in frase:\n",
    "            pag = len(lista_frases) - i\n",
    "            break\n",
    "    # Inicializa uma lista para armazenar os textos\n",
    "    textos = []\n",
    "\n",
    "    # Itera da quarta até o último item da lista\n",
    "    for i in range(pag, len(lista_frases)):\n",
    "        textos.append(lista_frases[i])\n",
    "\n",
    "    # Junta os textos em uma única string\n",
    "    texto_junto = \"\\n\".join(textos)\n",
    "\n",
    "    # Dividir a string no ponto onde \"References\" aparece\n",
    "    partes = texto_junto.split(\"References\", 1)\n",
    "    \n",
    "    # Pegar a parte posterior da divisão\n",
    "    texto_apos_references = partes[1].strip() if len(partes) > 1 else ''\n",
    "\n",
    "\n",
    "    # Retorna texto junto\n",
    "\n",
    "    return texto_apos_references\n",
    "\n",
    "# Criar um DataFrame vazio\n",
    "df_paper_references = pd.DataFrame(columns=[\"paper_name\", \"references\"])\n",
    "\n",
    "\n",
    "for file in files:\n",
    "    print(file)\n",
    "    path = directory  + file\n",
    "    paper = extrair_texto_pdf(path)\n",
    "    referencias = encontrar_referencias(paper)\n",
    "    # Demarcando onde termina uma referencia e comeca outra\n",
    "    referencias_clean = re.sub(r'\\.\\s*\\n', '##QUEBRA##', referencias)\n",
    "    # Substituir \\n por um espaço\n",
    "    referencias_clean = referencias_clean.replace('\\n', ' ')\n",
    "\n",
    "    # Dividir o texto usando '##QUEBRA##' como delimitador\n",
    "    lista_referencias = referencias_clean.split('##QUEBRA##')\n",
    "\n",
    "    df_temp_ref = pd.DataFrame({\n",
    "        'references': lista_referencias,\n",
    "        'paper_name': [file] * len(lista_referencias)  # Repetir o conteúdo do \"file\" para todas as linhas\n",
    "    })\n",
    "\n",
    "    df_paper_references = pd.concat([df_paper_references, df_temp_ref], ignore_index=True)"
   ]
  },
  {
   "cell_type": "code",
   "execution_count": 20,
   "metadata": {},
   "outputs": [],
   "source": [
    "# Analisys of the df_reference, see if I already can see which papers are the main ones:\n",
    "\n",
    "df_analisys = df_paper_references.drop('paper_name', axis=1)\n",
    "# Agrupar por 'grupo' e contar o número de ocorrências em cada grupo\n",
    "resultado = df_analisys['references'].value_counts().reset_index()"
   ]
  },
  {
   "cell_type": "code",
   "execution_count": 22,
   "metadata": {},
   "outputs": [
    {
     "name": "stderr",
     "output_type": "stream",
     "text": [
      "c:\\python310\\lib\\site-packages\\xlsxwriter\\worksheet.py:1252: UserWarning: Ignoring URL 'https://doi.org/10.3233/IP-170413%20%20Shah,%20P.,%20&%20Hoeffner,%20J.%20(2002).%20Review%20of%20graph%20comprehension%20research:%20Implications%20%20for%20instruction.%20Educational%20Psychology%20Review,%2014,%2047–69.%20https://doi.org/10.1023/%20%20A:1013180410169%20%20Sinif,%20L.,%20&%20Bounabat,%20B.%20(2019).%20A%20general%20framework%20of%20smart%20open%20linked%20government%20%20data:%20Application%20in%20E-health.%20In%20Proceedings%20of%20the%202019%202nd%20International%20Conference%20%20on%20Geoinformatics%20and%20Data%20Analysis,%20March%20(pp.%2099–103).%20https://doi.org/10.1145/%20%203318236.3318243%20%20Smith,%20A.%20(2013).%20Data%20visualisation%20and%20beyond:%20A%20multi-%20disciplinary%20approach%20to%20%20promote%20user%20engagement%20with%20official%20statistics.%20Statistical%20Journal%20of%20the%20IAOS,%2029,%20%20173–185.%20https://doi.org/10.3233/SJI-130783%20%20Snow,%20J.%20(1855).%20On%20the%20mode%20of%20communication%20of%20cholera%20.%20Sokhn,%20M.,%20Cotting,%20A.,%20Evequoz,%20F.,%20&%20Zufferey,%20A.%20(2016).%20From%20data%20to%20decisions.%20In%20%20Proceedings%20of%20the%209th%20International%20Conference%20on%20Theory%20and%20Practice%20of%20Electronic%20%20Governance,%20March%20(pp.%20361–362).%20https://doi.org/10.1145/2910019.2910032%20%20Spoiala,%20M.%20N.,%20Rinciog,%20O.,%20&%20Posea,%20V.%20(2016).%20The%20semantic%20representation%20of%20open%20data%20%20regarding%20the%20Romanian%20companies.%20In%20Proceedings%20of%20the%2015th%20RoEduNet%20Conference:%20%20Networking%20in%20Education%20and%20Research%20(pp.%201–5).%20https://doi.org/10.1109/%20%20RoEduNet.2016.7753244%20%20Stengel,%20D.,%20Calori,%20G.%20M.,%20&%20Giannoudis,%20P.%20V.%20(2008).%20Graphical%20data%20presentation%20.%20https://%20%20doi.org/10.1016/j.injury.2008.01.050%20%20Sunindyo,%20W.%20D.,%20&%20Amrita,%20I.%20D.%20P.%20D.%20K.%20(2019).%20The%20development%20of%20data%20publishing%20tool%20%20for%20indonesian%20open%20government%20data.%202019%20International%20Conference%20on%20Electrical%20%20Engineering%20and%20Informatics%20(ICEEI)%20,%2030–34.%20https://doi.org/10.1109/%20%20ICEEI47359.2019.8988891%20%20Szoka,%20K.%20(1982).%20A%20guide%20to%20choosing%20the%20right%20chart%20type.%20IEEE%20Transactions%20on%20%20Professional%20Communication,%2025(2),%2098–101.%20https://doi.org/10.1109/%20%20TPC.1982.6447763%20%20Tufte,%20E.%20R.%20(2001).%20The%20visual%20display%20of%20quantitative%20information%20(2nd%20ed.).%20Graphics%20Press%20' with link or location/anchor > 2079 characters since it exceeds Excel's limit for URLS\n",
      "  warn(\n"
     ]
    }
   ],
   "source": [
    "# Saving:\n",
    "\n",
    "excel_path = 'C:\\\\Users\\\\JVoigt\\\\OneDrive - Universität für Weiterbildung Krems\\\\Dokumente\\\\Python Scripts\\\\GIQ - retrieving information from papers\\\\giq_papers.xlsx'\n",
    "\n",
    "# Criar um objeto ExcelWriter\n",
    "with pd.ExcelWriter(excel_path, engine='xlsxwriter') as writer:\n",
    "    # Salvar os DataFrames em abas diferentes\n",
    "    df_paper_info.to_excel(writer, sheet_name='abstract_and_keywords', index=False)\n",
    "    df_paper_references.to_excel(writer, sheet_name='paper_references', index=False)\n",
    "    resultado.to_excel(writer, sheet_name='reference_analisys', index=False)"
   ]
  }
 ],
 "metadata": {
  "kernelspec": {
   "display_name": "Python 3",
   "language": "python",
   "name": "python3"
  },
  "language_info": {
   "codemirror_mode": {
    "name": "ipython",
    "version": 3
   },
   "file_extension": ".py",
   "mimetype": "text/x-python",
   "name": "python",
   "nbconvert_exporter": "python",
   "pygments_lexer": "ipython3",
   "version": "3.10.7"
  }
 },
 "nbformat": 4,
 "nbformat_minor": 2
}
